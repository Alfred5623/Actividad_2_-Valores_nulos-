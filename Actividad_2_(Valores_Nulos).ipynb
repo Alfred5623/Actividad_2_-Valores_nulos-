{
  "nbformat": 4,
  "nbformat_minor": 0,
  "metadata": {
    "colab": {
      "provenance": [],
      "authorship_tag": "ABX9TyOGrjNiaSXSIzW8bxOZuXlc",
      "include_colab_link": true
    },
    "kernelspec": {
      "name": "python3",
      "display_name": "Python 3"
    },
    "language_info": {
      "name": "python"
    }
  },
  "cells": [
    {
      "cell_type": "markdown",
      "metadata": {
        "id": "view-in-github",
        "colab_type": "text"
      },
      "source": [
        "<a href=\"https://colab.research.google.com/github/Alfred5623/Actividad_2_-Valores_nulos-/blob/main/Actividad_2_(Valores_Nulos).ipynb\" target=\"_parent\"><img src=\"https://colab.research.google.com/assets/colab-badge.svg\" alt=\"Open In Colab\"/></a>"
      ]
    },
    {
      "cell_type": "code",
      "execution_count": null,
      "metadata": {
        "id": "GkYFT_3VDiZr"
      },
      "outputs": [],
      "source": [
        "#Importamos las librerías pandas, numpy y matplotlib\n",
        "import pandas as pd\n",
        "import numpy as np\n",
        "import matplotlib.pyplot as plt"
      ]
    },
    {
      "cell_type": "code",
      "source": [
        "#cargar archivo csv desde equipo\n",
        "from google.colab import files\n",
        "files.upload()"
      ],
      "metadata": {
        "id": "II1dYbYSD4dA"
      },
      "execution_count": null,
      "outputs": []
    },
    {
      "cell_type": "code",
      "source": [
        "#Carga un archivo .csv sin índice\n",
        "data = pd.read_csv('Ventas_totales.csv')\n",
        "data.head(5)"
      ],
      "metadata": {
        "id": "LQmcxQAYD9OI"
      },
      "execution_count": null,
      "outputs": []
    },
    {
      "cell_type": "code",
      "source": [
        "#Identificar valores nulos por columna\n",
        "valores_nulos=data.isnull().sum()\n",
        "valores_nulos"
      ],
      "metadata": {
        "id": "34nUXVidEA7T"
      },
      "execution_count": null,
      "outputs": []
    },
    {
      "cell_type": "code",
      "source": [
        "#Realizamos una copia del data frame\n",
        "data2=data.copy()"
      ],
      "metadata": {
        "id": "9YQVVpJjGAHD"
      },
      "execution_count": null,
      "outputs": []
    },
    {
      "cell_type": "code",
      "source": [
        "#Sustituir valores nulos con mediana\n",
        "data2[\"salon_ventas\"]=data2[\"salon_ventas\"].fillna(round(data2[\"salon_ventas\"].median(),1))\n",
        "data2"
      ],
      "metadata": {
        "id": "_jtmCQt-GEWQ"
      },
      "execution_count": null,
      "outputs": []
    },
    {
      "cell_type": "markdown",
      "source": [
        "Utilice el método de sustituir por mediana, porque lo considero práctico dado el caso"
      ],
      "metadata": {
        "id": "Kt9qM1ufMRFM"
      }
    },
    {
      "cell_type": "code",
      "source": [
        "#Corroboramos valores nulos\n",
        "valores_nulos=data2.isnull().sum()\n",
        "valores_nulos"
      ],
      "metadata": {
        "id": "knPeAan-GVLv"
      },
      "execution_count": null,
      "outputs": []
    },
    {
      "cell_type": "code",
      "source": [
        "#Sustituir valores nulos por un valor númerico en concreto\n",
        "data2[\"tarjetas_debito\"]=data2[\"tarjetas_debito\"].fillna(1111111.111)\n",
        "data2"
      ],
      "metadata": {
        "id": "qWBK1wKKOGE9"
      },
      "execution_count": null,
      "outputs": []
    },
    {
      "cell_type": "markdown",
      "source": [
        "Use la sustitución por un valor en concreto porque se desconoce el número"
      ],
      "metadata": {
        "id": "Nb2e2P2wYCma"
      }
    },
    {
      "cell_type": "code",
      "source": [
        "#Corroboramos valores nulos\n",
        "valores_nulos=data2.isnull().sum()\n",
        "valores_nulos"
      ],
      "metadata": {
        "id": "JJySM9fAR9mQ"
      },
      "execution_count": null,
      "outputs": []
    },
    {
      "cell_type": "code",
      "source": [
        "#Sustituir valores nulos por un valor númerico en concreto\n",
        "data2[\"tarjetas_credito\"]=data2[\"tarjetas_credito\"].fillna(1111111.111)\n",
        "data2"
      ],
      "metadata": {
        "id": "5hxp4aObYPJh"
      },
      "execution_count": null,
      "outputs": []
    },
    {
      "cell_type": "code",
      "source": [
        "#Corroboramos valores nulos\n",
        "valores_nulos=data2.isnull().sum()\n",
        "valores_nulos"
      ],
      "metadata": {
        "id": "x_tmi9P_Ycxx"
      },
      "execution_count": null,
      "outputs": []
    },
    {
      "cell_type": "code",
      "source": [
        "#Sustiruir valores nulos por valores no nulos hacia adelante \"foward fill\" (\"ffill\")\n",
        "data2[\"otros_medios\"]=data2[\"otros_medios\"].fillna(method=\"ffill\")"
      ],
      "metadata": {
        "id": "7KJ-FpuVCkYj"
      },
      "execution_count": null,
      "outputs": []
    },
    {
      "cell_type": "markdown",
      "source": [
        "Se utiliza el valor anterior porque es un medio diferente"
      ],
      "metadata": {
        "id": "hKl71asjCm8U"
      }
    },
    {
      "cell_type": "code",
      "source": [
        "#Corroboramos valores nulos\n",
        "valores_nulos=data2.isnull().sum()\n",
        "valores_nulos"
      ],
      "metadata": {
        "id": "r3LBpYaGBJwU"
      },
      "execution_count": null,
      "outputs": []
    },
    {
      "cell_type": "code",
      "source": [
        "#Sustituir valores nulos con promedio o media\n",
        "data2[\"subtotal_ventas_alimentos_bebidas\"]=data2[\"subtotal_ventas_alimentos_bebidas\"].fillna(round(data[\"subtotal_ventas_alimentos_bebidas\"].mean(),1))"
      ],
      "metadata": {
        "id": "isIW4-dMC9-3"
      },
      "execution_count": null,
      "outputs": []
    },
    {
      "cell_type": "markdown",
      "source": [
        "Usanos sustitución por promedio porque a mi consideración es la mejor opción dada la columna"
      ],
      "metadata": {
        "id": "5HtLtKWwDPZv"
      }
    },
    {
      "cell_type": "code",
      "source": [
        "#Corroboramos valores nulos\n",
        "valores_nulos=data2.isnull().sum()\n",
        "valores_nulos"
      ],
      "metadata": {
        "id": "SL0d7WgSDLX4"
      },
      "execution_count": null,
      "outputs": []
    },
    {
      "cell_type": "code",
      "source": [
        "#Sustiruir valores nulos por valores no nulos hacia atrás \"backwardfill\" (\"bfill\")\n",
        "data2[\"bebidas\"]=data2[\"bebidas\"].fillna(method=\"bfill\")"
      ],
      "metadata": {
        "id": "-1Jw1hZwDZkf"
      },
      "execution_count": null,
      "outputs": []
    },
    {
      "cell_type": "markdown",
      "source": [
        "Se utilizó llenado hacia atrás porque es indiferente"
      ],
      "metadata": {
        "id": "bGWY6cGyDyhS"
      }
    },
    {
      "cell_type": "code",
      "source": [
        "#Corroboramos valores nulos\n",
        "valores_nulos=data2.isnull().sum()\n",
        "valores_nulos"
      ],
      "metadata": {
        "id": "dRlSq4WZDsjt"
      },
      "execution_count": null,
      "outputs": []
    },
    {
      "cell_type": "code",
      "source": [
        "#Sustituir valores nulos con mediana\n",
        "data2[\"almacen\"]=data2[\"almacen\"].fillna(round(data[\"almacen\"].median(),1))\n",
        "data2"
      ],
      "metadata": {
        "id": "LoflLTEiD8Nd"
      },
      "execution_count": null,
      "outputs": []
    },
    {
      "cell_type": "code",
      "source": [
        "#Corroboramos valores nulos\n",
        "valores_nulos=data2.isnull().sum()\n",
        "valores_nulos"
      ],
      "metadata": {
        "id": "vsQGIP4uELv3"
      },
      "execution_count": null,
      "outputs": []
    },
    {
      "cell_type": "code",
      "source": [
        "#Sustituir valores nulos con promedio o media\n",
        "data2[\"panaderia\"]=data2[\"panaderia\"].fillna(round(data[\"panaderia\"].mean(),1))"
      ],
      "metadata": {
        "id": "hETRvYQuEVrm"
      },
      "execution_count": null,
      "outputs": []
    },
    {
      "cell_type": "code",
      "source": [
        "#Corroboramos valores nulos\n",
        "valores_nulos=data2.isnull().sum()\n",
        "valores_nulos"
      ],
      "metadata": {
        "id": "a0Mv6qj4E7SY"
      },
      "execution_count": null,
      "outputs": []
    },
    {
      "cell_type": "code",
      "source": [
        "#Sustiruir valores nulos por valores no nulos hacia atrás \"backwardfill\" (\"bfill\")\n",
        "data2[\"lacteos\"]=data2[\"lacteos\"].fillna(method=\"bfill\")"
      ],
      "metadata": {
        "id": "tlyRjqPYFWJK"
      },
      "execution_count": null,
      "outputs": []
    },
    {
      "cell_type": "code",
      "source": [
        "#Sustiruir valores nulos por valores no nulos hacia atrás \"backwardfill\" (\"bfill\")\n",
        "data2[\"carnes\"]=data2[\"carnes\"].fillna(method=\"bfill\")"
      ],
      "metadata": {
        "id": "Ia_YsTJUFbSz"
      },
      "execution_count": null,
      "outputs": []
    },
    {
      "cell_type": "code",
      "source": [
        "#Sustiruir valores nulos por valores no nulos hacia atrás \"backwardfill\" (\"bfill\")\n",
        "data2[\"verduleria_fruteria\"]=data2[\"verduleria_fruteria\"].fillna(method=\"bfill\")"
      ],
      "metadata": {
        "id": "KYryh9vFFhDK"
      },
      "execution_count": null,
      "outputs": []
    },
    {
      "cell_type": "code",
      "source": [
        "#Sustiruir valores nulos por valores no nulos hacia atrás \"backwardfill\" (\"bfill\")\n",
        "data2[\"alimentos_preparados_rotiseria\"]=data2[\"alimentos_preparados_rotiseria\"].fillna(method=\"bfill\")"
      ],
      "metadata": {
        "id": "4igFJVaIFmch"
      },
      "execution_count": null,
      "outputs": []
    },
    {
      "cell_type": "code",
      "source": [
        "#Sustiruir valores nulos por valores no nulos hacia atrás \"backwardfill\" (\"bfill\")\n",
        "data2[\"indumentaria_calzado_textiles_hogar\"]=data2[\"indumentaria_calzado_textiles_hogar\"].fillna(method=\"bfill\")"
      ],
      "metadata": {
        "id": "pWo2B32zFqzB"
      },
      "execution_count": null,
      "outputs": []
    },
    {
      "cell_type": "code",
      "source": [
        "#Sustiruir valores nulos por valores no nulos hacia atrás \"backwardfill\" (\"bfill\")\n",
        "data2[\"electronicos_articulos_hogar\"]=data2[\"electronicos_articulos_hogar\"].fillna(method=\"bfill\")"
      ],
      "metadata": {
        "id": "667PQKb1FwzV"
      },
      "execution_count": null,
      "outputs": []
    },
    {
      "cell_type": "code",
      "source": [
        "#Sustiruir valores nulos por valores no nulos hacia atrás \"backwardfill\" (\"bfill\")\n",
        "data2[\"otros\"]=data2[\"otros\"].fillna(method=\"bfill\")\n",
        "data2"
      ],
      "metadata": {
        "id": "5bdr81Q8F04w"
      },
      "execution_count": null,
      "outputs": []
    },
    {
      "cell_type": "code",
      "source": [
        "#Corroboramos valores nulos\n",
        "valores_nulos=data2.isnull().sum()\n",
        "valores_nulos"
      ],
      "metadata": {
        "id": "KVtR85MMF7QN"
      },
      "execution_count": null,
      "outputs": []
    },
    {
      "cell_type": "code",
      "source": [
        "#Convertir DataFrame a CSV\n",
        "data2.to_csv(\"Ventas_totales_sin_nulos.csv\")"
      ],
      "metadata": {
        "id": "FxFIzlKwlbp-"
      },
      "execution_count": null,
      "outputs": []
    },
    {
      "cell_type": "code",
      "source": [
        "#descargar archivo filtrado en csv\n",
        "from google.colab import files\n",
        "files.download(\"Ventas_totales_sin_nulos.csv\")"
      ],
      "metadata": {
        "colab": {
          "base_uri": "https://localhost:8080/",
          "height": 17
        },
        "id": "COSIHiIKvnHj",
        "outputId": "b9de3427-3386-4dd9-c936-74c33241e79c"
      },
      "execution_count": null,
      "outputs": [
        {
          "output_type": "display_data",
          "data": {
            "text/plain": [
              "<IPython.core.display.Javascript object>"
            ],
            "application/javascript": [
              "\n",
              "    async function download(id, filename, size) {\n",
              "      if (!google.colab.kernel.accessAllowed) {\n",
              "        return;\n",
              "      }\n",
              "      const div = document.createElement('div');\n",
              "      const label = document.createElement('label');\n",
              "      label.textContent = `Downloading \"${filename}\": `;\n",
              "      div.appendChild(label);\n",
              "      const progress = document.createElement('progress');\n",
              "      progress.max = size;\n",
              "      div.appendChild(progress);\n",
              "      document.body.appendChild(div);\n",
              "\n",
              "      const buffers = [];\n",
              "      let downloaded = 0;\n",
              "\n",
              "      const channel = await google.colab.kernel.comms.open(id);\n",
              "      // Send a message to notify the kernel that we're ready.\n",
              "      channel.send({})\n",
              "\n",
              "      for await (const message of channel.messages) {\n",
              "        // Send a message to notify the kernel that we're ready.\n",
              "        channel.send({})\n",
              "        if (message.buffers) {\n",
              "          for (const buffer of message.buffers) {\n",
              "            buffers.push(buffer);\n",
              "            downloaded += buffer.byteLength;\n",
              "            progress.value = downloaded;\n",
              "          }\n",
              "        }\n",
              "      }\n",
              "      const blob = new Blob(buffers, {type: 'application/binary'});\n",
              "      const a = document.createElement('a');\n",
              "      a.href = window.URL.createObjectURL(blob);\n",
              "      a.download = filename;\n",
              "      div.appendChild(a);\n",
              "      a.click();\n",
              "      div.remove();\n",
              "    }\n",
              "  "
            ]
          },
          "metadata": {}
        },
        {
          "output_type": "display_data",
          "data": {
            "text/plain": [
              "<IPython.core.display.Javascript object>"
            ],
            "application/javascript": [
              "download(\"download_cf474f14-4901-4f46-8c2a-54a7f7c58922\", \"Ventas_totales_sin_nulos.csv\", 18626)"
            ]
          },
          "metadata": {}
        }
      ]
    }
  ]
}